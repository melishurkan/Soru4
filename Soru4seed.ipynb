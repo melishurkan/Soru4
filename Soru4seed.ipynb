{
  "nbformat": 4,
  "nbformat_minor": 0,
  "metadata": {
    "colab": {
      "provenance": [],
      "authorship_tag": "ABX9TyOnA4UCxafBNNhQlY88Kb8Q",
      "include_colab_link": true
    },
    "kernelspec": {
      "name": "python3",
      "display_name": "Python 3"
    },
    "language_info": {
      "name": "python"
    }
  },
  "cells": [
    {
      "cell_type": "markdown",
      "metadata": {
        "id": "view-in-github",
        "colab_type": "text"
      },
      "source": [
        "<a href=\"https://colab.research.google.com/github/melishurkan/Soru4/blob/main/Soru4seed.ipynb\" target=\"_parent\"><img src=\"https://colab.research.google.com/assets/colab-badge.svg\" alt=\"Open In Colab\"/></a>"
      ]
    },
    {
      "cell_type": "code",
      "execution_count": 4,
      "metadata": {
        "colab": {
          "base_uri": "https://localhost:8080/"
        },
        "id": "eNgXN7BegV9J",
        "outputId": "8f137485-cc05-45b8-90f5-8603065ce363"
      },
      "outputs": [
        {
          "output_type": "stream",
          "name": "stdout",
          "text": [
            "tensor([[0.8982],\n",
            "        [0.9556]], dtype=torch.float64)\n"
          ]
        }
      ],
      "source": [
        "import numpy as np\n",
        "import torch\n",
        "\n",
        "\n",
        "np.random.seed(190401079)\n",
        "\n",
        "X = np.array([[1, 2, 3], [4, 5, 6]])\n",
        "\n",
        "\n",
        "input_size = X.shape[1]  \n",
        "hidden_size = 50          \n",
        "output_size = 1           \n",
        "\n",
        "# Ağı oluştur\n",
        "W1 = np.random.randn(input_size, hidden_size)  \n",
        "b1 = np.zeros((1, hidden_size))               \n",
        "W2 = np.random.randn(hidden_size, output_size) \n",
        "b2 = np.zeros((1, output_size))               \n",
        "\n",
        "\n",
        "def tanh(x):\n",
        "    return (torch.exp(torch.tensor(x)) - torch.exp(torch.tensor(-x))) / (torch.exp(torch.tensor(x)) + torch.exp(torch.tensor(-x)))\n",
        "\n",
        "\n",
        "def sigmoid(x):\n",
        "    return 1 / (1 + np.exp(-x))\n",
        "\n",
        "\n",
        "z1 = np.dot(X, W1) + b1   \n",
        "a1 = tanh(z1)            \n",
        "z2 = np.dot(a1, W2) + b2  \n",
        "y_pred = torch.tensor(sigmoid(z2)) \n",
        "\n",
        "print(y_pred)"
      ]
    }
  ]
}